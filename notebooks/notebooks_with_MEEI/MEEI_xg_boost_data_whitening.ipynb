{
 "cells": [
  {
   "cell_type": "code",
   "execution_count": 1,
   "metadata": {},
   "outputs": [],
   "source": [
    "%matplotlib widget\n",
    "\n",
    "import os\n",
    "import sys\n",
    "sys.path.insert(0,'../../src')\n",
    "\n",
    "import random\n",
    "import numpy as np\n",
    "import pandas as pd\n",
    "import matplotlib.pyplot as plt\n",
    "\n",
    "from process_results import *\n",
    "from dataset_tester import *\n",
    "from get_landmarks import GetLandmarks \n",
    "#from LandmarkTester_alt import LandmarkTester\n",
    "\n",
    "from landmark_utils import vis_landmarks, compare_landmarks\n",
    "from vis_utils import *\n",
    "\n",
    "\n",
    "import cv2\n",
    "import numpy as np\n",
    "import time\n",
    "import timeit\n",
    "from pathlib import Path\n",
    "import csv\n",
    "import pickle\n",
    "\n",
    "from sklearn.ensemble import RandomForestClassifier as RFC\n",
    "from sklearn.metrics import mean_squared_error, accuracy_score\n",
    "from sklearn.preprocessing import LabelEncoder\n",
    "import xgboost as xgb\n",
    "from scipy import linalg\n",
    "import seaborn as sns"
   ]
  },
  {
   "cell_type": "code",
   "execution_count": 2,
   "metadata": {},
   "outputs": [],
   "source": [
    "MEEI_path = Path('/media/2TB/data/bp_pat_datasets/MEEI_Standard_Set')\n",
    "pat_info = pd.read_excel(MEEI_path/\"pat_info.xlsx\", sheet_name='Sheet1')"
   ]
  },
  {
   "cell_type": "code",
   "execution_count": 3,
   "metadata": {
    "tags": []
   },
   "outputs": [
    {
     "name": "stdout",
     "output_type": "stream",
     "text": [
      "The file is empty.\n"
     ]
    }
   ],
   "source": [
    "MEEI_pat_info = pd.read_pickle('../../src/pickles/MEEI_pat_info.pkl')\n",
    "all_pat_info = '../../src/pickles/all_pats_processed_data.pickle'\n",
    "\n",
    "if os.path.getsize(all_pat_info) > 0:\n",
    "    with open(all_pat_info,'rb') as f:\n",
    "        unpickler = pickle.Unpickler(f)\n",
    "        loaded_pats = unpickler.load(f)\n",
    "        print(loaded_pats)\n",
    "else:\n",
    "    print('The file is empty.')"
   ]
  },
  {
   "cell_type": "code",
   "execution_count": 5,
   "metadata": {},
   "outputs": [
    {
     "data": {
      "text/html": [
       "<div>\n",
       "<style scoped>\n",
       "    .dataframe tbody tr th:only-of-type {\n",
       "        vertical-align: middle;\n",
       "    }\n",
       "\n",
       "    .dataframe tbody tr th {\n",
       "        vertical-align: top;\n",
       "    }\n",
       "\n",
       "    .dataframe thead th {\n",
       "        text-align: right;\n",
       "    }\n",
       "</style>\n",
       "<table border=\"1\" class=\"dataframe\">\n",
       "  <thead>\n",
       "    <tr style=\"text-align: right;\">\n",
       "      <th></th>\n",
       "      <th>Category</th>\n",
       "      <th>Sub-category</th>\n",
       "      <th>#</th>\n",
       "      <th>Side</th>\n",
       "      <th>Gender</th>\n",
       "      <th>Age</th>\n",
       "    </tr>\n",
       "  </thead>\n",
       "  <tbody>\n",
       "    <tr>\n",
       "      <th>0</th>\n",
       "      <td>Flaccid</td>\n",
       "      <td>Complete</td>\n",
       "      <td>1</td>\n",
       "      <td>Left</td>\n",
       "      <td>Male</td>\n",
       "      <td>54</td>\n",
       "    </tr>\n",
       "    <tr>\n",
       "      <th>1</th>\n",
       "      <td>Flaccid</td>\n",
       "      <td>Complete</td>\n",
       "      <td>2</td>\n",
       "      <td>Right</td>\n",
       "      <td>Female</td>\n",
       "      <td>16</td>\n",
       "    </tr>\n",
       "    <tr>\n",
       "      <th>2</th>\n",
       "      <td>Flaccid</td>\n",
       "      <td>Complete</td>\n",
       "      <td>3</td>\n",
       "      <td>Right</td>\n",
       "      <td>Male</td>\n",
       "      <td>38</td>\n",
       "    </tr>\n",
       "    <tr>\n",
       "      <th>3</th>\n",
       "      <td>Flaccid</td>\n",
       "      <td>Complete</td>\n",
       "      <td>4</td>\n",
       "      <td>Left</td>\n",
       "      <td>Female</td>\n",
       "      <td>31</td>\n",
       "    </tr>\n",
       "    <tr>\n",
       "      <th>4</th>\n",
       "      <td>Flaccid</td>\n",
       "      <td>Complete</td>\n",
       "      <td>5</td>\n",
       "      <td>Left</td>\n",
       "      <td>Female</td>\n",
       "      <td>52</td>\n",
       "    </tr>\n",
       "    <tr>\n",
       "      <th>5</th>\n",
       "      <td>Flaccid</td>\n",
       "      <td>Mild</td>\n",
       "      <td>1</td>\n",
       "      <td>Left</td>\n",
       "      <td>Male</td>\n",
       "      <td>72</td>\n",
       "    </tr>\n",
       "    <tr>\n",
       "      <th>6</th>\n",
       "      <td>Flaccid</td>\n",
       "      <td>Mild</td>\n",
       "      <td>2</td>\n",
       "      <td>Right</td>\n",
       "      <td>Female</td>\n",
       "      <td>55</td>\n",
       "    </tr>\n",
       "    <tr>\n",
       "      <th>7</th>\n",
       "      <td>Flaccid</td>\n",
       "      <td>Mild</td>\n",
       "      <td>3</td>\n",
       "      <td>Left</td>\n",
       "      <td>Male</td>\n",
       "      <td>75</td>\n",
       "    </tr>\n",
       "    <tr>\n",
       "      <th>8</th>\n",
       "      <td>Flaccid</td>\n",
       "      <td>Moderate</td>\n",
       "      <td>1</td>\n",
       "      <td>Left</td>\n",
       "      <td>Male</td>\n",
       "      <td>51</td>\n",
       "    </tr>\n",
       "    <tr>\n",
       "      <th>9</th>\n",
       "      <td>Flaccid</td>\n",
       "      <td>Moderate</td>\n",
       "      <td>3</td>\n",
       "      <td>Left</td>\n",
       "      <td>Female</td>\n",
       "      <td>62</td>\n",
       "    </tr>\n",
       "    <tr>\n",
       "      <th>10</th>\n",
       "      <td>Flaccid</td>\n",
       "      <td>Moderate</td>\n",
       "      <td>4</td>\n",
       "      <td>Right</td>\n",
       "      <td>Male</td>\n",
       "      <td>21</td>\n",
       "    </tr>\n",
       "    <tr>\n",
       "      <th>11</th>\n",
       "      <td>Flaccid</td>\n",
       "      <td>Moderate</td>\n",
       "      <td>5</td>\n",
       "      <td>Right</td>\n",
       "      <td>Female</td>\n",
       "      <td>64</td>\n",
       "    </tr>\n",
       "    <tr>\n",
       "      <th>12</th>\n",
       "      <td>Flaccid</td>\n",
       "      <td>NearNormal</td>\n",
       "      <td>1</td>\n",
       "      <td>Left</td>\n",
       "      <td>Female</td>\n",
       "      <td>39</td>\n",
       "    </tr>\n",
       "    <tr>\n",
       "      <th>13</th>\n",
       "      <td>Flaccid</td>\n",
       "      <td>NearNormal</td>\n",
       "      <td>2</td>\n",
       "      <td>Right</td>\n",
       "      <td>Female</td>\n",
       "      <td>53</td>\n",
       "    </tr>\n",
       "    <tr>\n",
       "      <th>14</th>\n",
       "      <td>Flaccid</td>\n",
       "      <td>NearNormal</td>\n",
       "      <td>4</td>\n",
       "      <td>Left</td>\n",
       "      <td>Male</td>\n",
       "      <td>30</td>\n",
       "    </tr>\n",
       "    <tr>\n",
       "      <th>15</th>\n",
       "      <td>Flaccid</td>\n",
       "      <td>NearNormal</td>\n",
       "      <td>5</td>\n",
       "      <td>Right</td>\n",
       "      <td>Male</td>\n",
       "      <td>47</td>\n",
       "    </tr>\n",
       "    <tr>\n",
       "      <th>16</th>\n",
       "      <td>Flaccid</td>\n",
       "      <td>Severe</td>\n",
       "      <td>1</td>\n",
       "      <td>Left</td>\n",
       "      <td>Male</td>\n",
       "      <td>46</td>\n",
       "    </tr>\n",
       "    <tr>\n",
       "      <th>17</th>\n",
       "      <td>Flaccid</td>\n",
       "      <td>Severe</td>\n",
       "      <td>2</td>\n",
       "      <td>Left</td>\n",
       "      <td>Female</td>\n",
       "      <td>58</td>\n",
       "    </tr>\n",
       "    <tr>\n",
       "      <th>18</th>\n",
       "      <td>Flaccid</td>\n",
       "      <td>Severe</td>\n",
       "      <td>3</td>\n",
       "      <td>Right</td>\n",
       "      <td>Female</td>\n",
       "      <td>28</td>\n",
       "    </tr>\n",
       "    <tr>\n",
       "      <th>19</th>\n",
       "      <td>Flaccid</td>\n",
       "      <td>Severe</td>\n",
       "      <td>5</td>\n",
       "      <td>Left</td>\n",
       "      <td>Female</td>\n",
       "      <td>50</td>\n",
       "    </tr>\n",
       "    <tr>\n",
       "      <th>20</th>\n",
       "      <td>Normal</td>\n",
       "      <td>NaN</td>\n",
       "      <td>1</td>\n",
       "      <td>NaN</td>\n",
       "      <td>Male</td>\n",
       "      <td>75</td>\n",
       "    </tr>\n",
       "    <tr>\n",
       "      <th>21</th>\n",
       "      <td>Normal</td>\n",
       "      <td>NaN</td>\n",
       "      <td>2</td>\n",
       "      <td>NaN</td>\n",
       "      <td>Male</td>\n",
       "      <td>36</td>\n",
       "    </tr>\n",
       "    <tr>\n",
       "      <th>22</th>\n",
       "      <td>Normal</td>\n",
       "      <td>NaN</td>\n",
       "      <td>3</td>\n",
       "      <td>NaN</td>\n",
       "      <td>Male</td>\n",
       "      <td>29</td>\n",
       "    </tr>\n",
       "    <tr>\n",
       "      <th>23</th>\n",
       "      <td>Normal</td>\n",
       "      <td>NaN</td>\n",
       "      <td>4</td>\n",
       "      <td>NaN</td>\n",
       "      <td>Female</td>\n",
       "      <td>24</td>\n",
       "    </tr>\n",
       "    <tr>\n",
       "      <th>24</th>\n",
       "      <td>Normal</td>\n",
       "      <td>NaN</td>\n",
       "      <td>5</td>\n",
       "      <td>NaN</td>\n",
       "      <td>Female</td>\n",
       "      <td>35</td>\n",
       "    </tr>\n",
       "    <tr>\n",
       "      <th>25</th>\n",
       "      <td>Normal</td>\n",
       "      <td>NaN</td>\n",
       "      <td>6</td>\n",
       "      <td>NaN</td>\n",
       "      <td>Female</td>\n",
       "      <td>33</td>\n",
       "    </tr>\n",
       "    <tr>\n",
       "      <th>26</th>\n",
       "      <td>Normal</td>\n",
       "      <td>NaN</td>\n",
       "      <td>7</td>\n",
       "      <td>NaN</td>\n",
       "      <td>Female</td>\n",
       "      <td>48</td>\n",
       "    </tr>\n",
       "    <tr>\n",
       "      <th>27</th>\n",
       "      <td>Normal</td>\n",
       "      <td>NaN</td>\n",
       "      <td>8</td>\n",
       "      <td>NaN</td>\n",
       "      <td>Male</td>\n",
       "      <td>33</td>\n",
       "    </tr>\n",
       "    <tr>\n",
       "      <th>28</th>\n",
       "      <td>Normal</td>\n",
       "      <td>NaN</td>\n",
       "      <td>9</td>\n",
       "      <td>NaN</td>\n",
       "      <td>Female</td>\n",
       "      <td>92</td>\n",
       "    </tr>\n",
       "    <tr>\n",
       "      <th>29</th>\n",
       "      <td>Normal</td>\n",
       "      <td>NaN</td>\n",
       "      <td>10</td>\n",
       "      <td>NaN</td>\n",
       "      <td>Male</td>\n",
       "      <td>27</td>\n",
       "    </tr>\n",
       "    <tr>\n",
       "      <th>30</th>\n",
       "      <td>Synkinetic</td>\n",
       "      <td>Complete</td>\n",
       "      <td>1</td>\n",
       "      <td>Right</td>\n",
       "      <td>Female</td>\n",
       "      <td>61</td>\n",
       "    </tr>\n",
       "    <tr>\n",
       "      <th>31</th>\n",
       "      <td>Synkinetic</td>\n",
       "      <td>Complete</td>\n",
       "      <td>2</td>\n",
       "      <td>Left</td>\n",
       "      <td>Female</td>\n",
       "      <td>68</td>\n",
       "    </tr>\n",
       "    <tr>\n",
       "      <th>32</th>\n",
       "      <td>Synkinetic</td>\n",
       "      <td>Complete</td>\n",
       "      <td>3</td>\n",
       "      <td>Right</td>\n",
       "      <td>Female</td>\n",
       "      <td>36</td>\n",
       "    </tr>\n",
       "    <tr>\n",
       "      <th>33</th>\n",
       "      <td>Synkinetic</td>\n",
       "      <td>Complete</td>\n",
       "      <td>4</td>\n",
       "      <td>Left</td>\n",
       "      <td>Male</td>\n",
       "      <td>55</td>\n",
       "    </tr>\n",
       "    <tr>\n",
       "      <th>34</th>\n",
       "      <td>Synkinetic</td>\n",
       "      <td>Mild</td>\n",
       "      <td>1</td>\n",
       "      <td>Left</td>\n",
       "      <td>Male</td>\n",
       "      <td>50</td>\n",
       "    </tr>\n",
       "    <tr>\n",
       "      <th>35</th>\n",
       "      <td>Synkinetic</td>\n",
       "      <td>Mild</td>\n",
       "      <td>2</td>\n",
       "      <td>Right</td>\n",
       "      <td>Male</td>\n",
       "      <td>77</td>\n",
       "    </tr>\n",
       "    <tr>\n",
       "      <th>36</th>\n",
       "      <td>Synkinetic</td>\n",
       "      <td>Mild</td>\n",
       "      <td>3</td>\n",
       "      <td>Right</td>\n",
       "      <td>Female</td>\n",
       "      <td>77</td>\n",
       "    </tr>\n",
       "    <tr>\n",
       "      <th>37</th>\n",
       "      <td>Synkinetic</td>\n",
       "      <td>Mild</td>\n",
       "      <td>5</td>\n",
       "      <td>Left</td>\n",
       "      <td>Female</td>\n",
       "      <td>53</td>\n",
       "    </tr>\n",
       "    <tr>\n",
       "      <th>38</th>\n",
       "      <td>Synkinetic</td>\n",
       "      <td>Moderate</td>\n",
       "      <td>1</td>\n",
       "      <td>Right</td>\n",
       "      <td>Female</td>\n",
       "      <td>59</td>\n",
       "    </tr>\n",
       "    <tr>\n",
       "      <th>39</th>\n",
       "      <td>Synkinetic</td>\n",
       "      <td>Moderate</td>\n",
       "      <td>2</td>\n",
       "      <td>Right</td>\n",
       "      <td>Female</td>\n",
       "      <td>60</td>\n",
       "    </tr>\n",
       "    <tr>\n",
       "      <th>40</th>\n",
       "      <td>Synkinetic</td>\n",
       "      <td>Moderate</td>\n",
       "      <td>3</td>\n",
       "      <td>Left</td>\n",
       "      <td>Female</td>\n",
       "      <td>58</td>\n",
       "    </tr>\n",
       "    <tr>\n",
       "      <th>41</th>\n",
       "      <td>Synkinetic</td>\n",
       "      <td>Moderate</td>\n",
       "      <td>5</td>\n",
       "      <td>Left</td>\n",
       "      <td>Male</td>\n",
       "      <td>42</td>\n",
       "    </tr>\n",
       "    <tr>\n",
       "      <th>42</th>\n",
       "      <td>Synkinetic</td>\n",
       "      <td>NearNormal</td>\n",
       "      <td>1</td>\n",
       "      <td>Right</td>\n",
       "      <td>Female</td>\n",
       "      <td>58</td>\n",
       "    </tr>\n",
       "    <tr>\n",
       "      <th>43</th>\n",
       "      <td>Synkinetic</td>\n",
       "      <td>NearNormal</td>\n",
       "      <td>2</td>\n",
       "      <td>Left</td>\n",
       "      <td>Female</td>\n",
       "      <td>46</td>\n",
       "    </tr>\n",
       "    <tr>\n",
       "      <th>44</th>\n",
       "      <td>Synkinetic</td>\n",
       "      <td>NearNormal</td>\n",
       "      <td>3</td>\n",
       "      <td>Right</td>\n",
       "      <td>Female</td>\n",
       "      <td>48</td>\n",
       "    </tr>\n",
       "    <tr>\n",
       "      <th>45</th>\n",
       "      <td>Synkinetic</td>\n",
       "      <td>NearNormal</td>\n",
       "      <td>4</td>\n",
       "      <td>Right</td>\n",
       "      <td>Male</td>\n",
       "      <td>35</td>\n",
       "    </tr>\n",
       "    <tr>\n",
       "      <th>46</th>\n",
       "      <td>Synkinetic</td>\n",
       "      <td>NearNormal</td>\n",
       "      <td>5</td>\n",
       "      <td>Left</td>\n",
       "      <td>Male</td>\n",
       "      <td>40</td>\n",
       "    </tr>\n",
       "    <tr>\n",
       "      <th>47</th>\n",
       "      <td>Synkinetic</td>\n",
       "      <td>Severe</td>\n",
       "      <td>1</td>\n",
       "      <td>Right</td>\n",
       "      <td>Female</td>\n",
       "      <td>28</td>\n",
       "    </tr>\n",
       "    <tr>\n",
       "      <th>48</th>\n",
       "      <td>Synkinetic</td>\n",
       "      <td>Severe</td>\n",
       "      <td>2</td>\n",
       "      <td>Left</td>\n",
       "      <td>Female</td>\n",
       "      <td>30</td>\n",
       "    </tr>\n",
       "    <tr>\n",
       "      <th>49</th>\n",
       "      <td>Synkinetic</td>\n",
       "      <td>Severe</td>\n",
       "      <td>3</td>\n",
       "      <td>Right</td>\n",
       "      <td>Male</td>\n",
       "      <td>50</td>\n",
       "    </tr>\n",
       "    <tr>\n",
       "      <th>50</th>\n",
       "      <td>Synkinetic</td>\n",
       "      <td>Severe</td>\n",
       "      <td>4</td>\n",
       "      <td>Right</td>\n",
       "      <td>Male</td>\n",
       "      <td>76</td>\n",
       "    </tr>\n",
       "  </tbody>\n",
       "</table>\n",
       "</div>"
      ],
      "text/plain": [
       "      Category Sub-category   #   Side  Gender  Age\n",
       "0      Flaccid     Complete   1   Left    Male   54\n",
       "1      Flaccid     Complete   2  Right  Female   16\n",
       "2      Flaccid     Complete   3  Right    Male   38\n",
       "3      Flaccid     Complete   4   Left  Female   31\n",
       "4      Flaccid     Complete   5   Left  Female   52\n",
       "5      Flaccid         Mild   1   Left    Male   72\n",
       "6      Flaccid         Mild   2  Right  Female   55\n",
       "7      Flaccid         Mild   3   Left    Male   75\n",
       "8      Flaccid     Moderate   1   Left    Male   51\n",
       "9      Flaccid     Moderate   3   Left  Female   62\n",
       "10     Flaccid     Moderate   4  Right    Male   21\n",
       "11     Flaccid     Moderate   5  Right  Female   64\n",
       "12     Flaccid   NearNormal   1   Left  Female   39\n",
       "13     Flaccid   NearNormal   2  Right  Female   53\n",
       "14     Flaccid   NearNormal   4   Left    Male   30\n",
       "15     Flaccid   NearNormal   5  Right    Male   47\n",
       "16     Flaccid       Severe   1   Left    Male   46\n",
       "17     Flaccid       Severe   2   Left  Female   58\n",
       "18     Flaccid       Severe   3  Right  Female   28\n",
       "19     Flaccid       Severe   5   Left  Female   50\n",
       "20      Normal          NaN   1    NaN    Male   75\n",
       "21      Normal          NaN   2    NaN    Male   36\n",
       "22      Normal          NaN   3    NaN    Male   29\n",
       "23      Normal          NaN   4    NaN  Female   24\n",
       "24      Normal          NaN   5    NaN  Female   35\n",
       "25      Normal          NaN   6    NaN  Female   33\n",
       "26      Normal          NaN   7    NaN  Female   48\n",
       "27      Normal          NaN   8    NaN    Male   33\n",
       "28      Normal          NaN   9    NaN  Female   92\n",
       "29      Normal          NaN  10    NaN    Male   27\n",
       "30  Synkinetic     Complete   1  Right  Female   61\n",
       "31  Synkinetic     Complete   2   Left  Female   68\n",
       "32  Synkinetic     Complete   3  Right  Female   36\n",
       "33  Synkinetic     Complete   4   Left    Male   55\n",
       "34  Synkinetic         Mild   1   Left    Male   50\n",
       "35  Synkinetic         Mild   2  Right    Male   77\n",
       "36  Synkinetic         Mild   3  Right  Female   77\n",
       "37  Synkinetic         Mild   5   Left  Female   53\n",
       "38  Synkinetic     Moderate   1  Right  Female   59\n",
       "39  Synkinetic     Moderate   2  Right  Female   60\n",
       "40  Synkinetic     Moderate   3   Left  Female   58\n",
       "41  Synkinetic     Moderate   5   Left    Male   42\n",
       "42  Synkinetic   NearNormal   1  Right  Female   58\n",
       "43  Synkinetic   NearNormal   2   Left  Female   46\n",
       "44  Synkinetic   NearNormal   3  Right  Female   48\n",
       "45  Synkinetic   NearNormal   4  Right    Male   35\n",
       "46  Synkinetic   NearNormal   5   Left    Male   40\n",
       "47  Synkinetic       Severe   1  Right  Female   28\n",
       "48  Synkinetic       Severe   2   Left  Female   30\n",
       "49  Synkinetic       Severe   3  Right    Male   50\n",
       "50  Synkinetic       Severe   4  Right    Male   76"
      ]
     },
     "execution_count": 5,
     "metadata": {},
     "output_type": "execute_result"
    }
   ],
   "source": [
    "pat_info"
   ]
  },
  {
   "cell_type": "code",
   "execution_count": 7,
   "metadata": {},
   "outputs": [
    {
     "ename": "NameError",
     "evalue": "name 'loaded_pats' is not defined",
     "output_type": "error",
     "traceback": [
      "\u001b[0;31m---------------------------------------------------------------------------\u001b[0m",
      "\u001b[0;31mNameError\u001b[0m                                 Traceback (most recent call last)",
      "Cell \u001b[0;32mIn[7], line 2\u001b[0m\n\u001b[1;32m      1\u001b[0m \u001b[38;5;66;03m# x - choose one\u001b[39;00m\n\u001b[0;32m----> 2\u001b[0m all_ids \u001b[38;5;241m=\u001b[39m \u001b[43mloaded_pats\u001b[49m[\u001b[38;5;241m0\u001b[39m]\n\u001b[1;32m      3\u001b[0m all_imgs \u001b[38;5;241m=\u001b[39m loaded_pats[\u001b[38;5;241m1\u001b[39m]\n\u001b[1;32m      4\u001b[0m all_lms \u001b[38;5;241m=\u001b[39m loaded_pats[\u001b[38;5;241m2\u001b[39m]\n",
      "\u001b[0;31mNameError\u001b[0m: name 'loaded_pats' is not defined"
     ]
    }
   ],
   "source": [
    "# x - choose one\n",
    "all_ids = loaded_pats[0]\n",
    "all_imgs = loaded_pats[1]\n",
    "all_lms = loaded_pats[2]\n",
    "all_features = loaded_pats[3]\n",
    "\n",
    "# y\n",
    "all_hb = loaded_pats[4]"
   ]
  },
  {
   "cell_type": "code",
   "execution_count": 8,
   "metadata": {},
   "outputs": [
    {
     "ename": "NameError",
     "evalue": "name 'all_features' is not defined",
     "output_type": "error",
     "traceback": [
      "\u001b[0;31m---------------------------------------------------------------------------\u001b[0m",
      "\u001b[0;31mNameError\u001b[0m                                 Traceback (most recent call last)",
      "Cell \u001b[0;32mIn[8], line 2\u001b[0m\n\u001b[1;32m      1\u001b[0m \u001b[38;5;66;03m# Find NaN and Inf values\u001b[39;00m\n\u001b[0;32m----> 2\u001b[0m bad_indices \u001b[38;5;241m=\u001b[39m np\u001b[38;5;241m.\u001b[39mwhere(np\u001b[38;5;241m.\u001b[39misnan(\u001b[43mall_features\u001b[49m)\u001b[38;5;241m.\u001b[39msum(axis\u001b[38;5;241m=\u001b[39m\u001b[38;5;241m1\u001b[39m) \u001b[38;5;241m>\u001b[39m \u001b[38;5;241m0\u001b[39m)[\u001b[38;5;241m0\u001b[39m]\n\u001b[1;32m      3\u001b[0m bad_indices \u001b[38;5;241m=\u001b[39m np\u001b[38;5;241m.\u001b[39mappend(bad_indices, np\u001b[38;5;241m.\u001b[39mwhere(np\u001b[38;5;241m.\u001b[39misinf(all_features)\u001b[38;5;241m.\u001b[39msum(axis\u001b[38;5;241m=\u001b[39m\u001b[38;5;241m1\u001b[39m) \u001b[38;5;241m>\u001b[39m \u001b[38;5;241m0\u001b[39m)[\u001b[38;5;241m0\u001b[39m])\n\u001b[1;32m      4\u001b[0m bad_indices\u001b[38;5;241m.\u001b[39msort()\n",
      "\u001b[0;31mNameError\u001b[0m: name 'all_features' is not defined"
     ]
    }
   ],
   "source": [
    "# Find NaN and Inf values\n",
    "bad_indices = np.where(np.isnan(all_features).sum(axis=1) > 0)[0]\n",
    "bad_indices = np.append(bad_indices, np.where(np.isinf(all_features).sum(axis=1) > 0)[0])\n",
    "bad_indices.sort()\n",
    "bad_indices"
   ]
  },
  {
   "cell_type": "code",
   "execution_count": 9,
   "metadata": {},
   "outputs": [
    {
     "ename": "NameError",
     "evalue": "name 'all_ids' is not defined",
     "output_type": "error",
     "traceback": [
      "\u001b[0;31m---------------------------------------------------------------------------\u001b[0m",
      "\u001b[0;31mNameError\u001b[0m                                 Traceback (most recent call last)",
      "Cell \u001b[0;32mIn[9], line 3\u001b[0m\n\u001b[1;32m      1\u001b[0m \u001b[38;5;66;03m# drop bad indices \u001b[39;00m\n\u001b[1;32m      2\u001b[0m \u001b[38;5;66;03m# x\u001b[39;00m\n\u001b[0;32m----> 3\u001b[0m all_ids \u001b[38;5;241m=\u001b[39m np\u001b[38;5;241m.\u001b[39mdelete(\u001b[43mall_ids\u001b[49m, bad_indices, axis\u001b[38;5;241m=\u001b[39m\u001b[38;5;241m0\u001b[39m)\n\u001b[1;32m      4\u001b[0m all_imgs \u001b[38;5;241m=\u001b[39m np\u001b[38;5;241m.\u001b[39mdelete(all_imgs, bad_indices, axis\u001b[38;5;241m=\u001b[39m\u001b[38;5;241m0\u001b[39m)\n\u001b[1;32m      5\u001b[0m all_lms \u001b[38;5;241m=\u001b[39m np\u001b[38;5;241m.\u001b[39mdelete(all_lms, bad_indices, axis\u001b[38;5;241m=\u001b[39m\u001b[38;5;241m0\u001b[39m)\n",
      "\u001b[0;31mNameError\u001b[0m: name 'all_ids' is not defined"
     ]
    }
   ],
   "source": [
    "# drop bad indices \n",
    "# x\n",
    "all_ids = np.delete(all_ids, bad_indices, axis=0)\n",
    "all_imgs = np.delete(all_imgs, bad_indices, axis=0)\n",
    "all_lms = np.delete(all_lms, bad_indices, axis=0)\n",
    "all_features = np.delete(all_features, bad_indices, axis=0)\n",
    "\n",
    "# y\n",
    "all_hb = np.delete(all_hb, bad_indices, axis=0)\n",
    "\n",
    "all_features.shape, all_hb.shape"
   ]
  },
  {
   "cell_type": "code",
   "execution_count": 10,
   "metadata": {},
   "outputs": [
    {
     "ename": "NameError",
     "evalue": "name 'all_features' is not defined",
     "output_type": "error",
     "traceback": [
      "\u001b[0;31m---------------------------------------------------------------------------\u001b[0m",
      "\u001b[0;31mNameError\u001b[0m                                 Traceback (most recent call last)",
      "Cell \u001b[0;32mIn[10], line 1\u001b[0m\n\u001b[0;32m----> 1\u001b[0m plot_df \u001b[38;5;241m=\u001b[39m pd\u001b[38;5;241m.\u001b[39mDataFrame(\u001b[43mall_features\u001b[49m, columns \u001b[38;5;241m=\u001b[39m [\u001b[38;5;124m'\u001b[39m\u001b[38;5;124mf\u001b[39m\u001b[38;5;124m'\u001b[39m\u001b[38;5;241m+\u001b[39m\u001b[38;5;28mstr\u001b[39m(i) \u001b[38;5;28;01mfor\u001b[39;00m i \u001b[38;5;129;01min\u001b[39;00m \u001b[38;5;28mrange\u001b[39m(\u001b[38;5;241m0\u001b[39m, \u001b[38;5;241m29\u001b[39m)])\n",
      "\u001b[0;31mNameError\u001b[0m: name 'all_features' is not defined"
     ]
    }
   ],
   "source": [
    "plot_df = pd.DataFrame(all_features, columns = ['f'+str(i) for i in range(0, 29)])"
   ]
  },
  {
   "cell_type": "code",
   "execution_count": 11,
   "metadata": {},
   "outputs": [
    {
     "ename": "NameError",
     "evalue": "name 'all_hb' is not defined",
     "output_type": "error",
     "traceback": [
      "\u001b[0;31m---------------------------------------------------------------------------\u001b[0m",
      "\u001b[0;31mNameError\u001b[0m                                 Traceback (most recent call last)",
      "Cell \u001b[0;32mIn[11], line 1\u001b[0m\n\u001b[0;32m----> 1\u001b[0m plot_df[\u001b[38;5;124m'\u001b[39m\u001b[38;5;124mhb\u001b[39m\u001b[38;5;124m'\u001b[39m] \u001b[38;5;241m=\u001b[39m \u001b[43mall_hb\u001b[49m\n",
      "\u001b[0;31mNameError\u001b[0m: name 'all_hb' is not defined"
     ]
    }
   ],
   "source": [
    "plot_df['hb'] = all_hb"
   ]
  },
  {
   "cell_type": "code",
   "execution_count": 12,
   "metadata": {},
   "outputs": [],
   "source": [
    "def feature_plot(df, which_feature, group_by):\n",
    "    sns.displot(df, x=which_feature, hue=group_by, element=\"step\")\n",
    "    "
   ]
  },
  {
   "cell_type": "code",
   "execution_count": 13,
   "metadata": {},
   "outputs": [
    {
     "ename": "NameError",
     "evalue": "name 'plot_df' is not defined",
     "output_type": "error",
     "traceback": [
      "\u001b[0;31m---------------------------------------------------------------------------\u001b[0m",
      "\u001b[0;31mNameError\u001b[0m                                 Traceback (most recent call last)",
      "Cell \u001b[0;32mIn[13], line 2\u001b[0m\n\u001b[1;32m      1\u001b[0m \u001b[38;5;28;01mfor\u001b[39;00m i \u001b[38;5;129;01min\u001b[39;00m \u001b[38;5;28mrange\u001b[39m(\u001b[38;5;241m0\u001b[39m, \u001b[38;5;241m29\u001b[39m):\n\u001b[0;32m----> 2\u001b[0m     feature_plot(\u001b[43mplot_df\u001b[49m, \u001b[38;5;124m'\u001b[39m\u001b[38;5;124mf\u001b[39m\u001b[38;5;124m'\u001b[39m\u001b[38;5;241m+\u001b[39m\u001b[38;5;28mstr\u001b[39m(i), \u001b[38;5;124m'\u001b[39m\u001b[38;5;124mhb\u001b[39m\u001b[38;5;124m'\u001b[39m)\n",
      "\u001b[0;31mNameError\u001b[0m: name 'plot_df' is not defined"
     ]
    }
   ],
   "source": [
    "for i in range(0, 29):\n",
    "    feature_plot(plot_df, 'f'+str(i), 'hb')"
   ]
  },
  {
   "cell_type": "code",
   "execution_count": null,
   "metadata": {},
   "outputs": [],
   "source": []
  },
  {
   "cell_type": "code",
   "execution_count": 14,
   "metadata": {},
   "outputs": [
    {
     "name": "stdout",
     "output_type": "stream",
     "text": [
      "Training IDs: [ 0  2  3  4  5  6  7  8  9 10 11 12 13 14 15 19 20 21 22 24 27 29 30 31\n",
      " 32 33 34 35 36 37 38 39 40 41 42 43 44 46 47 48 49 50]\n",
      "Testing IDs: [ 1 16 17 18 23 25 26 28 45]\n"
     ]
    }
   ],
   "source": [
    "# Split IDs into train and test\n",
    "random.seed(85)\n",
    "subject_ids = [i for i in range(51)]\n",
    "train_ids = np.sort(np.array(random.sample(subject_ids, 42)))\n",
    "test_ids = np.sort(np.array([i for i in subject_ids if i not in train_ids]))\n",
    "\n",
    "print('Training IDs:',train_ids)\n",
    "print('Testing IDs:',test_ids)"
   ]
  },
  {
   "cell_type": "code",
   "execution_count": 15,
   "metadata": {},
   "outputs": [
    {
     "ename": "NameError",
     "evalue": "name 'all_ids' is not defined",
     "output_type": "error",
     "traceback": [
      "\u001b[0;31m---------------------------------------------------------------------------\u001b[0m",
      "\u001b[0;31mNameError\u001b[0m                                 Traceback (most recent call last)",
      "Cell \u001b[0;32mIn[15], line 2\u001b[0m\n\u001b[1;32m      1\u001b[0m \u001b[38;5;66;03m# Next, match the IDs to the indices in the data\u001b[39;00m\n\u001b[0;32m----> 2\u001b[0m train_idx \u001b[38;5;241m=\u001b[39m np\u001b[38;5;241m.\u001b[39msort(np\u001b[38;5;241m.\u001b[39mwhere(np\u001b[38;5;241m.\u001b[39misin(\u001b[43mall_ids\u001b[49m, train_ids))[\u001b[38;5;241m0\u001b[39m])\n\u001b[1;32m      3\u001b[0m test_idx \u001b[38;5;241m=\u001b[39m np\u001b[38;5;241m.\u001b[39msort(np\u001b[38;5;241m.\u001b[39mwhere(np\u001b[38;5;241m.\u001b[39misin(all_ids, test_ids))[\u001b[38;5;241m0\u001b[39m])\n\u001b[1;32m      5\u001b[0m x_train, x_test \u001b[38;5;241m=\u001b[39m all_features[train_idx], all_features[test_idx]\n",
      "\u001b[0;31mNameError\u001b[0m: name 'all_ids' is not defined"
     ]
    }
   ],
   "source": [
    "# Next, match the IDs to the indices in the data\n",
    "train_idx = np.sort(np.where(np.isin(all_ids, train_ids))[0])\n",
    "test_idx = np.sort(np.where(np.isin(all_ids, test_ids))[0])\n",
    "\n",
    "x_train, x_test = all_features[train_idx], all_features[test_idx]\n",
    "y_train, y_test = all_hb[train_idx], all_hb[test_idx]\n",
    "\n",
    "print('Training x shape:', x_train.shape)\n",
    "print('Training y shape:', y_train.shape)\n",
    "print('Testing x shape:', x_test.shape)\n",
    "print('Testing y shape:', y_test.shape)"
   ]
  },
  {
   "cell_type": "code",
   "execution_count": 16,
   "metadata": {},
   "outputs": [
    {
     "ename": "NameError",
     "evalue": "name 'x_train' is not defined",
     "output_type": "error",
     "traceback": [
      "\u001b[0;31m---------------------------------------------------------------------------\u001b[0m",
      "\u001b[0;31mNameError\u001b[0m                                 Traceback (most recent call last)",
      "Cell \u001b[0;32mIn[16], line 1\u001b[0m\n\u001b[0;32m----> 1\u001b[0m \u001b[43mx_train\u001b[49m[\u001b[38;5;241m0\u001b[39m], y_train[\u001b[38;5;241m0\u001b[39m]\n",
      "\u001b[0;31mNameError\u001b[0m: name 'x_train' is not defined"
     ]
    }
   ],
   "source": [
    "x_train[0], y_train[0]"
   ]
  },
  {
   "cell_type": "code",
   "execution_count": 17,
   "metadata": {},
   "outputs": [
    {
     "ename": "NameError",
     "evalue": "name 'x_test' is not defined",
     "output_type": "error",
     "traceback": [
      "\u001b[0;31m---------------------------------------------------------------------------\u001b[0m",
      "\u001b[0;31mNameError\u001b[0m                                 Traceback (most recent call last)",
      "Cell \u001b[0;32mIn[17], line 1\u001b[0m\n\u001b[0;32m----> 1\u001b[0m \u001b[43mx_test\u001b[49m[\u001b[38;5;241m0\u001b[39m], y_test[\u001b[38;5;241m0\u001b[39m]\n",
      "\u001b[0;31mNameError\u001b[0m: name 'x_test' is not defined"
     ]
    }
   ],
   "source": [
    "x_test[0], y_test[0]"
   ]
  },
  {
   "cell_type": "code",
   "execution_count": 18,
   "metadata": {},
   "outputs": [
    {
     "ename": "NameError",
     "evalue": "name 'all_features' is not defined",
     "output_type": "error",
     "traceback": [
      "\u001b[0;31m---------------------------------------------------------------------------\u001b[0m",
      "\u001b[0;31mNameError\u001b[0m                                 Traceback (most recent call last)",
      "Cell \u001b[0;32mIn[18], line 1\u001b[0m\n\u001b[0;32m----> 1\u001b[0m data_dmatrix \u001b[38;5;241m=\u001b[39m xgb\u001b[38;5;241m.\u001b[39mDMatrix(data\u001b[38;5;241m=\u001b[39m\u001b[43mall_features\u001b[49m,label\u001b[38;5;241m=\u001b[39mall_hb)\n",
      "\u001b[0;31mNameError\u001b[0m: name 'all_features' is not defined"
     ]
    }
   ],
   "source": [
    "data_dmatrix = xgb.DMatrix(data=all_features,label=all_hb)"
   ]
  },
  {
   "cell_type": "code",
   "execution_count": 19,
   "metadata": {},
   "outputs": [],
   "source": [
    "#xg_reg = xgb.XGBRegressor(objective ='reg:squarederror', colsample_bytree = 0.3, learning_rate = 0.1,\n",
    "#                max_depth = 8, alpha = 10, n_estimators = 30)"
   ]
  },
  {
   "cell_type": "code",
   "execution_count": 20,
   "metadata": {},
   "outputs": [],
   "source": [
    "xg_reg = xgb.XGBClassifier(\n",
    "    tree_method=\"gpu_hist\", enable_categorical=True, n_estimators=30, max_depth=10)"
   ]
  },
  {
   "cell_type": "code",
   "execution_count": 21,
   "metadata": {},
   "outputs": [
    {
     "ename": "NameError",
     "evalue": "name 'y_train' is not defined",
     "output_type": "error",
     "traceback": [
      "\u001b[0;31m---------------------------------------------------------------------------\u001b[0m",
      "\u001b[0;31mNameError\u001b[0m                                 Traceback (most recent call last)",
      "Cell \u001b[0;32mIn[21], line 2\u001b[0m\n\u001b[1;32m      1\u001b[0m le \u001b[38;5;241m=\u001b[39m LabelEncoder()\n\u001b[0;32m----> 2\u001b[0m y_train \u001b[38;5;241m=\u001b[39m le\u001b[38;5;241m.\u001b[39mfit_transform(\u001b[43my_train\u001b[49m)\n",
      "\u001b[0;31mNameError\u001b[0m: name 'y_train' is not defined"
     ]
    }
   ],
   "source": [
    "le = LabelEncoder()\n",
    "y_train = le.fit_transform(y_train)"
   ]
  },
  {
   "cell_type": "code",
   "execution_count": 22,
   "metadata": {},
   "outputs": [
    {
     "ename": "NameError",
     "evalue": "name 'x_train' is not defined",
     "output_type": "error",
     "traceback": [
      "\u001b[0;31m---------------------------------------------------------------------------\u001b[0m",
      "\u001b[0;31mNameError\u001b[0m                                 Traceback (most recent call last)",
      "Cell \u001b[0;32mIn[22], line 1\u001b[0m\n\u001b[0;32m----> 1\u001b[0m xg_reg\u001b[38;5;241m.\u001b[39mfit(\u001b[43mx_train\u001b[49m, y_train)\n",
      "\u001b[0;31mNameError\u001b[0m: name 'x_train' is not defined"
     ]
    }
   ],
   "source": [
    "xg_reg.fit(x_train, y_train)"
   ]
  },
  {
   "cell_type": "code",
   "execution_count": 23,
   "metadata": {},
   "outputs": [
    {
     "ename": "NameError",
     "evalue": "name 'x_test' is not defined",
     "output_type": "error",
     "traceback": [
      "\u001b[0;31m---------------------------------------------------------------------------\u001b[0m",
      "\u001b[0;31mNameError\u001b[0m                                 Traceback (most recent call last)",
      "Cell \u001b[0;32mIn[23], line 1\u001b[0m\n\u001b[0;32m----> 1\u001b[0m y_pred \u001b[38;5;241m=\u001b[39m xg_reg\u001b[38;5;241m.\u001b[39mpredict(\u001b[43mx_test\u001b[49m)\n\u001b[1;32m      2\u001b[0m rmse \u001b[38;5;241m=\u001b[39m np\u001b[38;5;241m.\u001b[39msqrt(mean_squared_error(y_test, y_pred))\n\u001b[1;32m      3\u001b[0m \u001b[38;5;28mprint\u001b[39m(\u001b[38;5;124m\"\u001b[39m\u001b[38;5;124mRMSE: \u001b[39m\u001b[38;5;132;01m%2f\u001b[39;00m\u001b[38;5;124m\"\u001b[39m \u001b[38;5;241m%\u001b[39m (rmse))\n",
      "\u001b[0;31mNameError\u001b[0m: name 'x_test' is not defined"
     ]
    }
   ],
   "source": [
    "y_pred = xg_reg.predict(x_test)\n",
    "rmse = np.sqrt(mean_squared_error(y_test, y_pred))\n",
    "print(\"RMSE: %2f\" % (rmse))\n",
    "print('Accuracy:', round(accuracy_score(y_test, y_pred), 3))"
   ]
  },
  {
   "cell_type": "code",
   "execution_count": 24,
   "metadata": {},
   "outputs": [
    {
     "ename": "NameError",
     "evalue": "name 'y_pred' is not defined",
     "output_type": "error",
     "traceback": [
      "\u001b[0;31m---------------------------------------------------------------------------\u001b[0m",
      "\u001b[0;31mNameError\u001b[0m                                 Traceback (most recent call last)",
      "Cell \u001b[0;32mIn[24], line 1\u001b[0m\n\u001b[0;32m----> 1\u001b[0m \u001b[43my_pred\u001b[49m[\u001b[38;5;241m10\u001b[39m:\u001b[38;5;241m20\u001b[39m], y_test[\u001b[38;5;241m10\u001b[39m:\u001b[38;5;241m20\u001b[39m]\n",
      "\u001b[0;31mNameError\u001b[0m: name 'y_pred' is not defined"
     ]
    }
   ],
   "source": [
    "y_pred[10:20], y_test[10:20]"
   ]
  },
  {
   "cell_type": "code",
   "execution_count": null,
   "metadata": {},
   "outputs": [],
   "source": []
  },
  {
   "cell_type": "code",
   "execution_count": null,
   "metadata": {},
   "outputs": [],
   "source": []
  },
  {
   "cell_type": "code",
   "execution_count": null,
   "metadata": {},
   "outputs": [],
   "source": [
    "# Now do data whitening\n",
    "x = all_features\n",
    "print('x.shape:', x.shape)"
   ]
  },
  {
   "cell_type": "code",
   "execution_count": null,
   "metadata": {},
   "outputs": [],
   "source": [
    "# Center data\n",
    "# By subtracting mean for each feature\n",
    "xc = x.T - np.mean(x.T, axis=0)\n",
    "xc = xc.T\n",
    "print('xc.shape:', xc.shape, '\\n')"
   ]
  },
  {
   "cell_type": "code",
   "execution_count": null,
   "metadata": {},
   "outputs": [],
   "source": [
    "# Calculate covariance matrix\n",
    "xcov = np.cov(xc, rowvar=True, bias=True)\n",
    "print('Covariance matrix: \\n', xcov, '\\n')"
   ]
  },
  {
   "cell_type": "code",
   "execution_count": null,
   "metadata": {},
   "outputs": [],
   "source": [
    "# Calculate Eigenvalues and Eigenvectors\n",
    "w, v = linalg.eig(xcov)\n",
    "# Note: Use w.real.round(4) to (1) remove 'j' notation to real, (2) round to '4' significant digits\n",
    "print(\"Eigenvalues:\\n\", w.real.round(4), '\\n')\n",
    "print(\"Eigenvectors:\\n\", v, '\\n')"
   ]
  },
  {
   "cell_type": "code",
   "execution_count": null,
   "metadata": {},
   "outputs": [],
   "source": [
    "# Calculate inverse square root of Eigenvalues\n",
    "# Optional: Add '.1e5' to avoid division errors if needed\n",
    "# Create a diagonal matrix\n",
    "diagw = np.diag(1/(w**0.5)) # or np.diag(1/((w+.1e-5)**0.5))\n",
    "diagw = diagw.real.round(4) #convert to real and round off\n",
    "print(\"Diagonal matrix for inverse square root of Eigenvalues:\\n\", diagw, '\\n')"
   ]
  },
  {
   "cell_type": "code",
   "execution_count": null,
   "metadata": {},
   "outputs": [],
   "source": [
    "# Calculate Rotation (optional)\n",
    "# Note: To see how data can be rotated\n",
    "xrot = np.dot(v, xc)\n",
    " \n",
    "# Whitening transform using PCA (Principal Component Analysis)\n",
    "wpca = np.dot(np.dot(diagw, v.T), xc)\n",
    " \n",
    "# Whitening transform using ZCA (Zero Component Analysis)\n",
    "wzca = np.dot(np.dot(np.dot(v, diagw), v.T), xc)"
   ]
  },
  {
   "cell_type": "code",
   "execution_count": null,
   "metadata": {},
   "outputs": [],
   "source": [
    "# Overlay plot\n",
    "plt.figure()\n",
    "plt.scatter(xc[0,:], xc[1,:], label='centered', alpha=0.15)\n",
    "plt.scatter(wpca[0,:], wpca[1,:], marker='+',label='wpca', alpha=0.5)\n",
    "plt.scatter(wzca[0,:], wzca[1,:], marker='x', label='wzca', alpha=0.5)\n",
    "plt.xlabel('x', fontsize=16)\n",
    "plt.ylabel('y', fontsize=16)\n",
    "plt.legend()\n",
    " \n",
    "plt.tight_layout()\n",
    "plt.show()"
   ]
  },
  {
   "cell_type": "code",
   "execution_count": null,
   "metadata": {},
   "outputs": [],
   "source": [
    "wzca.shape"
   ]
  },
  {
   "cell_type": "code",
   "execution_count": null,
   "metadata": {},
   "outputs": [],
   "source": []
  },
  {
   "cell_type": "code",
   "execution_count": null,
   "metadata": {},
   "outputs": [],
   "source": [
    "# We try again with whitened data\n",
    "# x - choose one\n",
    "processed_features = wzca\n",
    "# y\n",
    "#all_hb "
   ]
  },
  {
   "cell_type": "code",
   "execution_count": null,
   "metadata": {},
   "outputs": [],
   "source": [
    "# Split IDs into train and test\n",
    "random.seed(85)\n",
    "subject_ids = [i for i in range(51)]\n",
    "train_ids = np.sort(np.array(random.sample(subject_ids, 42)))\n",
    "test_ids = np.sort(np.array([i for i in subject_ids if i not in train_ids]))\n",
    "\n",
    "print('Training IDs:',train_ids)\n",
    "print('Testing IDs:',test_ids)"
   ]
  },
  {
   "cell_type": "code",
   "execution_count": null,
   "metadata": {},
   "outputs": [],
   "source": [
    "# Next, match the IDs to the indices in the data\n",
    "train_idx = np.sort(np.where(np.isin(all_ids, train_ids))[0])\n",
    "test_idx = np.sort(np.where(np.isin(all_ids, test_ids))[0])\n",
    "\n",
    "x_train2, x_test2 = processed_features[train_idx], processed_features[test_idx]\n",
    "y_train2, y_test2 = all_hb[train_idx], all_hb[test_idx]\n",
    "\n",
    "print('Training x shape:', x_train2.shape)\n",
    "print('Training y shape:', y_train2.shape)\n",
    "print('Testing x shape:', x_test2.shape)\n",
    "print('Testing y shape:', y_test2.shape)"
   ]
  },
  {
   "cell_type": "code",
   "execution_count": null,
   "metadata": {},
   "outputs": [],
   "source": [
    "x_train2[0], y_train2[0]"
   ]
  },
  {
   "cell_type": "code",
   "execution_count": null,
   "metadata": {},
   "outputs": [],
   "source": [
    "x_test2[0], y_test2[0]"
   ]
  },
  {
   "cell_type": "code",
   "execution_count": null,
   "metadata": {},
   "outputs": [],
   "source": [
    "#data_dmatrix = xgb.DMatrix(data=all_features,label=all_hb)"
   ]
  },
  {
   "cell_type": "code",
   "execution_count": null,
   "metadata": {},
   "outputs": [],
   "source": [
    "#xg_reg = xgb.XGBRegressor(objective ='reg:squarederror', colsample_bytree = 0.3, learning_rate = 0.1,\n",
    "#                max_depth = 8, alpha = 10, n_estimators = 30)"
   ]
  },
  {
   "cell_type": "code",
   "execution_count": null,
   "metadata": {},
   "outputs": [],
   "source": [
    "xg_reg = xgb.XGBClassifier(\n",
    "    tree_method=\"gpu_hist\", enable_categorical=True, n_estimators=30, max_depth=10)\n"
   ]
  },
  {
   "cell_type": "code",
   "execution_count": null,
   "metadata": {},
   "outputs": [],
   "source": [
    "le = LabelEncoder()\n",
    "y_train2 = le.fit_transform(y_train2)"
   ]
  },
  {
   "cell_type": "code",
   "execution_count": null,
   "metadata": {},
   "outputs": [],
   "source": [
    "x_train2.shape, y_train2.shape"
   ]
  },
  {
   "cell_type": "code",
   "execution_count": null,
   "metadata": {},
   "outputs": [],
   "source": [
    "x_train2[10], y_train2[10]"
   ]
  },
  {
   "cell_type": "code",
   "execution_count": null,
   "metadata": {},
   "outputs": [],
   "source": []
  },
  {
   "cell_type": "code",
   "execution_count": null,
   "metadata": {},
   "outputs": [],
   "source": []
  },
  {
   "cell_type": "code",
   "execution_count": null,
   "metadata": {},
   "outputs": [],
   "source": []
  },
  {
   "cell_type": "code",
   "execution_count": null,
   "metadata": {},
   "outputs": [],
   "source": [
    "xg_reg.fit(x_train2, y_train2)\n",
    "y_pred2 = xg_reg.predict(x_test2)\n",
    "rmse2 = np.sqrt(mean_squared_error(y_test2, y_pred2))\n",
    "print(\"RMSE: %2f\" % (rmse2))\n",
    "print('Accuracy:', round(accuracy_score(y_test2, y_pred2), 3))"
   ]
  },
  {
   "cell_type": "code",
   "execution_count": null,
   "metadata": {},
   "outputs": [],
   "source": [
    "y_pred2[10:20], y_test2[10:20]"
   ]
  },
  {
   "cell_type": "code",
   "execution_count": null,
   "metadata": {},
   "outputs": [],
   "source": []
  }
 ],
 "metadata": {
  "kernelspec": {
   "display_name": "Python 3 (ipykernel)",
   "language": "python",
   "name": "python3"
  },
  "language_info": {
   "codemirror_mode": {
    "name": "ipython",
    "version": 3
   },
   "file_extension": ".py",
   "mimetype": "text/x-python",
   "name": "python",
   "nbconvert_exporter": "python",
   "pygments_lexer": "ipython3",
   "version": "3.10.8"
  },
  "vscode": {
   "interpreter": {
    "hash": "5e1ff756c4b2bfcc21e505ea7c0b491f54bfd61411a9176e29ec0c7d5ece208a"
   }
  }
 },
 "nbformat": 4,
 "nbformat_minor": 4
}
