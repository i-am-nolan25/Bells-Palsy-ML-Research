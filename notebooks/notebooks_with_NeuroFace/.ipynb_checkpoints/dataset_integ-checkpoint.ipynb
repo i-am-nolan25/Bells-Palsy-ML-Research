{
 "cells": [
  {
   "cell_type": "code",
   "execution_count": 1,
   "metadata": {},
   "outputs": [
    {
     "ename": "ModuleNotFoundError",
     "evalue": "No module named 'process_results'",
     "output_type": "error",
     "traceback": [
      "\u001b[0;31m---------------------------------------------------------------------------\u001b[0m",
      "\u001b[0;31mModuleNotFoundError\u001b[0m                       Traceback (most recent call last)",
      "Cell \u001b[0;32mIn[1], line 8\u001b[0m\n\u001b[1;32m      5\u001b[0m \u001b[38;5;28;01mfrom\u001b[39;00m \u001b[38;5;21;01msklearn\u001b[39;00m\u001b[38;5;21;01m.\u001b[39;00m\u001b[38;5;21;01mmetrics\u001b[39;00m \u001b[38;5;28;01mimport\u001b[39;00m mean_squared_error\n\u001b[1;32m      6\u001b[0m \u001b[38;5;28;01mimport\u001b[39;00m \u001b[38;5;21;01mmatplotlib\u001b[39;00m\u001b[38;5;21;01m.\u001b[39;00m\u001b[38;5;21;01mpyplot\u001b[39;00m \u001b[38;5;28;01mas\u001b[39;00m \u001b[38;5;21;01mplt\u001b[39;00m\n\u001b[0;32m----> 8\u001b[0m \u001b[38;5;28;01mfrom\u001b[39;00m \u001b[38;5;21;01mprocess_results\u001b[39;00m \u001b[38;5;28;01mimport\u001b[39;00m \u001b[38;5;241m*\u001b[39m\n\u001b[1;32m     10\u001b[0m \u001b[38;5;28;01mfrom\u001b[39;00m \u001b[38;5;21;01mdataset_tester\u001b[39;00m \u001b[38;5;28;01mimport\u001b[39;00m \u001b[38;5;241m*\u001b[39m\n\u001b[1;32m     11\u001b[0m \u001b[38;5;28;01mfrom\u001b[39;00m \u001b[38;5;21;01mget_landmarks\u001b[39;00m \u001b[38;5;28;01mimport\u001b[39;00m GetLandmarks \n",
      "\u001b[0;31mModuleNotFoundError\u001b[0m: No module named 'process_results'"
     ]
    }
   ],
   "source": [
    "%matplotlib widget\n",
    "\n",
    "import sys\n",
    "sys.path.insert(0,'../../src')\n",
    "\n",
    "import numpy as np\n",
    "import pandas as pd\n",
    "from sklearn.metrics import mean_squared_error\n",
    "import matplotlib.pyplot as plt\n",
    "\n",
    "from process_results import *\n",
    "\n",
    "from dataset_tester import *\n",
    "from get_landmarks import GetLandmarks \n",
    "from landmark_tester import LandmarkTester\n",
    "\n",
    "from landmark_utils import vis_landmarks, compare_landmarks\n",
    "\n",
    "import seaborn as sns\n",
    "\n",
    "from vis_utils import *"
   ]
  },
  {
   "cell_type": "code",
   "execution_count": null,
   "metadata": {},
   "outputs": [],
   "source": [
    "test = DatasetIntegrator(\"/media/2TB/data/bp_pat_datasets/NeuroFace_Open_Access_Data/\")"
   ]
  },
  {
   "cell_type": "code",
   "execution_count": null,
   "metadata": {},
   "outputs": [],
   "source": [
    "#('BBP_NORMAL', 'DDK_PATAKA', 'DDK_PA', 'NSM_BLOW', 'NSM_KISS', 'NSM_OPEN', 'NSM_SPREAD', 'NSM_BIGSMILE', 'NSM_BROW')\n",
    "generator = test.patients_generator(disease_type=\"control\", tasks=('NSM_BLOW'))"
   ]
  },
  {
   "cell_type": "code",
   "execution_count": null,
   "metadata": {},
   "outputs": [],
   "source": [
    "all_controls = np.array(list(generator))"
   ]
  },
  {
   "cell_type": "code",
   "execution_count": null,
   "metadata": {},
   "outputs": [],
   "source": [
    "all_controls.shape"
   ]
  },
  {
   "cell_type": "code",
   "execution_count": null,
   "metadata": {},
   "outputs": [],
   "source": [
    "features_list = []\n",
    "im_list = []\n",
    "lm_list = []\n",
    "frame_list = []\n",
    "\n",
    "for this_dict in all_controls:\n",
    "    pat_dict = this_dict[0]\n",
    "    for t in pat_dict.keys():\n",
    "        task_dict = pat_dict[t]\n",
    "        for f in task_dict.keys():\n",
    "            frame_list.append(f)\n",
    "            lms_gt = task_dict[f]['landmarks_gt']\n",
    "            bbox = task_dict[f]['bbox']\n",
    "            pr = ProcessResults(lms_gt, 'lms_only')\n",
    "            #pr.scale_by_bbox(bbox)\n",
    "            features_list.append(pr._features)\n",
    "            \n",
    "            gem_lm = to_gemma_landmarks(lms_gt)\n",
    "            tilt_angle = angle(gem_lm, 48, 49)\n",
    "            rot_center = tuple(np.int16(gem_lm[48]))\n",
    "            \n",
    "            rot_lm = rotate_landmarks(gem_lm,\n",
    "                                           rot_center,\n",
    "                                           -tilt_angle)\n",
    "            rot_im = rotate_image(task_dict[f]['image'],\n",
    "                                            rot_center,\n",
    "                                            -tilt_angle)\n",
    "            \n",
    "            im_list.append(rot_im)\n",
    "            lm_list.append(rot_lm)\n",
    "            #vis_image(np.flip(rot_im, axis=-1))\n",
    "            #vis_landmarks(np.flip(rot_im, axis=-1), rot_lm, title=f)\n",
    "    break"
   ]
  },
  {
   "cell_type": "code",
   "execution_count": null,
   "metadata": {},
   "outputs": [],
   "source": [
    "num_frames = len(frame_list)\n",
    "f, ax = plt.subplots(4,5, figsize=(15,12), sharex = True, sharey = True)\n",
    "\n",
    "for i in range(len(ax)):\n",
    "    for j in range(len(ax[i])):\n",
    "        cur_ax = ax[i][j]\n",
    "        idx = i*4+j\n",
    "        if idx >= num_frames:\n",
    "            cur_ax.axis('off')\n",
    "            break\n",
    "        fea = 'f'+str(idx)\n",
    "        \n",
    "        #cur_ax.hist(fixed_df[fea], bins=18)       \n",
    "        #cur_ax.axvline(x=pat_fea[fea], color='r', linewidth=2)\n",
    "        \n",
    "        #percentile = percentileofscore(fixed_df[fea], pat_fea[fea])\n",
    "        #lab = \"Patient {}\\nPercentile:{:.1f}\".format(fea,percentile)\n",
    "        #cur_ax.legend(fontsize=10, loc='upper right',labels=[lab])\n",
    "\n",
    "        #cur_ax.set_xlabel(fea)\n",
    "                \n",
    "        cur_ax.set_title(frame_list[idx])\n",
    "        cur_ax.imshow(np.flip(im_list[idx],axis=-1))\n",
    "        cur_ax.scatter(lm_list[idx][:,0], lm_list[idx][:,1], c='#12e1e3', s=10)\n",
    "        \n",
    "plt.tight_layout()"
   ]
  },
  {
   "cell_type": "markdown",
   "metadata": {},
   "source": [
    "# BACKUP\n",
    "features_list = []\n",
    "\n",
    "for this_dict in all_controls:\n",
    "    pat_dict = this_dict[0]\n",
    "    for t in pat_dict.keys():\n",
    "        task_dict = pat_dict[t]\n",
    "        for f in task_dict.keys():\n",
    "            lms_gt = task_dict[f]['landmarks_gt']\n",
    "            bbox = task_dict[f]['bbox']\n",
    "            pr = ProcessResults(lms_gt, 'lms_only')\n",
    "            #pr.scale_by_bbox(bbox)\n",
    "            features_list.append(pr._features)\n",
    "            \n",
    "            gem_lm = to_gemma_landmarks(lms_gt)\n",
    "            tilt_angle = angle(gem_lm, 48, 49)\n",
    "            rot_center = tuple(np.int16(gem_lm[48]))\n",
    "            rot_lm = rotate_landmarks(gem_lm,\n",
    "                                           rot_center,\n",
    "                                           -tilt_angle)\n",
    "            rot_im = rotate_image(task_dict[f]['image'],\n",
    "                                            rot_center,\n",
    "                                            -tilt_angle)\n",
    "                \n",
    "            #vis_image(np.flip(rot_im, axis=-1))\n",
    "            vis_landmarks(np.flip(rot_im, axis=-1), rot_lm, title=f)\n",
    "    break"
   ]
  },
  {
   "cell_type": "code",
   "execution_count": null,
   "metadata": {},
   "outputs": [],
   "source": [
    "mydf = pd.DataFrame(features_list) \n",
    "mydf['frame']=frame_list\n",
    "cols = mydf.columns.tolist()\n",
    "cols = cols[-1:] + cols[:-1]\n",
    "mydf = mydf[cols]\n",
    "\n",
    "fixed_df = mydf[np.isfinite(mydf).all(1)] \n",
    "\n"
   ]
  },
  {
   "cell_type": "code",
   "execution_count": null,
   "metadata": {},
   "outputs": [],
   "source": [
    "mydf"
   ]
  },
  {
   "cell_type": "code",
   "execution_count": null,
   "metadata": {},
   "outputs": [],
   "source": [
    "fixed_df.hist(bins=18)\n",
    "#fixed_df.plot.hist(subplots=True, layout=(6, 5), bins=18, sharex=False, sharey=False)"
   ]
  },
  {
   "cell_type": "code",
   "execution_count": null,
   "metadata": {},
   "outputs": [],
   "source": [
    "for (columnName, columnData) in fixed_df.items():\n",
    "    print('Column Name : ', columnName)\n",
    "    print('Column Contents : ', columnData.values)\n",
    "    plt.figure(columnName)\n",
    "    sns.distplot(columnData)\n",
    "    "
   ]
  },
  {
   "cell_type": "code",
   "execution_count": null,
   "metadata": {},
   "outputs": [],
   "source": [
    "len(fixed_df.index)"
   ]
  },
  {
   "cell_type": "code",
   "execution_count": null,
   "metadata": {},
   "outputs": [],
   "source": [
    "#newdf = pd.DataFrame((fixed_df.mean(), fixed_df.median(), fixed_df.std()))\n",
    "#newdf"
   ]
  },
  {
   "cell_type": "code",
   "execution_count": null,
   "metadata": {},
   "outputs": [],
   "source": [
    "#newdf"
   ]
  },
  {
   "cell_type": "code",
   "execution_count": null,
   "metadata": {},
   "outputs": [],
   "source": [
    "#f_list = list(features_list.keys())"
   ]
  },
  {
   "cell_type": "markdown",
   "metadata": {},
   "source": [
    "\n",
    "#bins = np.arange(-10, 10, 1)\n",
    "#hist, bins = np.histogram(fixed_df['f23'], bins=bins)\n",
    "#width = np.diff(bins)\n",
    "#center = (bins[:-1] + bins[1:]) / 2\n",
    "\n",
    "fig, ax = plt.subplots(figsize=(8,3))\n",
    "\n",
    "ax.set_title(\"Healthy Distribution vs. Patient Feature - f23\")\n",
    "#ax.bar(center, hist, align='center', width=width)\n",
    "ax.hist(fixed_df['f23'], bins=18)\n",
    "ax.axvline(x=-3.8523, color='r', linewidth=2)\n",
    "#ax.axvline(x=-5.314, color='b', linewidth=2)\n",
    "ax.legend(loc='upper right',labels=['Lower 5th Percentile', 'Patient f23'])\n",
    "\n",
    "plt.xlabel(\"f23\")\n",
    "plt.ylabel(\"Observations\")\n",
    "ax.grid()\n",
    "ax.set_xticks(bins)#\n",
    "\n",
    "plt.show()\n"
   ]
  },
  {
   "cell_type": "markdown",
   "metadata": {},
   "source": [
    "plt.figure()\n",
    "plt.hist(fixed_df['f23'])\n",
    "plt.title(\"Healthy Distribution vs. Patient Feature - f23\")\n",
    "patient_f23 = fixed_df['f23'][fixed_df['f23'] == -5.314]\n",
    "plt.axvline(x=-3.8523, color='r', linewidth=2)\n",
    "plt.legend(loc='upper right',labels=['Lower 5th Percentile', 'Patient f23'])\n",
    "plt.xlabel(\"f23\")\n",
    "plt.ylabel(\"Frequency\")\n",
    "plt.grid()\n",
    "\n",
    "plt.show()"
   ]
  },
  {
   "cell_type": "code",
   "execution_count": null,
   "metadata": {},
   "outputs": [],
   "source": [
    "np.percentile(fixed_df['f23'], 5)"
   ]
  },
  {
   "cell_type": "markdown",
   "metadata": {},
   "source": [
    "bins = np.arange(-10, 10, 1)\n",
    "hist, bins = np.histogram(fixed_df['f23'], bins=bins)\n",
    "width = np.diff(bins)\n",
    "center = (bins[:-1] + bins[1:]) / 2\n",
    "\n",
    "fig, ax = plt.subplots(figsize=(8,3))\n",
    "\n",
    "ax.set_title(\"Healthy Distribution vs. Patient Feature - f23\")\n",
    "ax.bar(center, hist, align='center', width=width)\n",
    "ax.axvline(x=-3.8523, color='r', linewidth=2)\n",
    "ax.axvline(x=-5.314, color='b', linewidth=2)\n",
    "ax.legend(loc='upper right',labels=['Lower 5th Percentile', 'Patient f23'])\n",
    "\n",
    "plt.xlabel(\"f23\")\n",
    "plt.ylabel(\"Observations\")\n",
    "plt.grid()\n",
    "ax.set_xticks(bins)#\n",
    "\n",
    "plt.show()"
   ]
  },
  {
   "cell_type": "markdown",
   "metadata": {},
   "source": [
    "\n",
    "bins = np.arange(1, 3, .1)\n",
    "hist, bins = np.histogram(fixed_df['f21'], bins=bins)\n",
    "width = np.diff(bins)\n",
    "center = (bins[:-1] + bins[1:]) / 2\n",
    "\n",
    "fig, ax = plt.subplots(figsize=(8,3))\n",
    "\n",
    "ax.set_title(\"Healthy Distribution vs. Patient Feature - f21\")\n",
    "ax.bar(center, hist, align='center', width=width)\n",
    "ax.axvline(x=1.7595, color='r', linewidth=2)\n",
    "ax.axvline(x=1.916, color='b', linewidth=2)\n",
    "ax.legend(loc='upper right',labels=['Upper 80th Percentile', 'Patient f23'])\n",
    "\n",
    "plt.xlabel(\"f23\")\n",
    "plt.ylabel(\"Observations\")\n",
    "\n",
    "plt.xlabel(\"f21\")\n",
    "plt.ylabel(\"Observations\")\n",
    "plt.grid()\n",
    "ax.set_xticks(bins)#\n",
    "\n",
    "plt.show()"
   ]
  },
  {
   "cell_type": "code",
   "execution_count": null,
   "metadata": {},
   "outputs": [],
   "source": []
  }
 ],
 "metadata": {
  "kernelspec": {
   "display_name": "Python 3 (ipykernel)",
   "language": "python",
   "name": "python3"
  },
  "language_info": {
   "codemirror_mode": {
    "name": "ipython",
    "version": 3
   },
   "file_extension": ".py",
   "mimetype": "text/x-python",
   "name": "python",
   "nbconvert_exporter": "python",
   "pygments_lexer": "ipython3",
   "version": "3.10.8"
  },
  "vscode": {
   "interpreter": {
    "hash": "5e1ff756c4b2bfcc21e505ea7c0b491f54bfd61411a9176e29ec0c7d5ece208a"
   }
  }
 },
 "nbformat": 4,
 "nbformat_minor": 4
}
